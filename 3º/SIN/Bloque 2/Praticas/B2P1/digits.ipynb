{
  "cells": [
    {
      "cell_type": "markdown",
      "metadata": {
        "id": "SZ0LYSqpHR65"
      },
      "source": [
        "# El corpus digits\n",
        "\n",
        "Al igual que iris, digits puede considerarse un corpus de \"juguete\". Ahora bien, en comparación con iris, digits supone un salto de complejidad por el mayor número de clases, $C=10$, muestras, $N=1797$, y dimensión de los vectores de características, $D=64$. Además, digits aborda una de las principales tareas perceptivas del aprendizaje automático: el reconocimiento de caracteres óptico (OCR) y, más concretamente, el reconocimiento de dígitos manuscritos. Aunque el reconocimiento de dígitos manuscritos se considera una tarea \"resuelta\" desde los años 90, la clasificación de imágenes en general sigue siendo una tarea compleja, de gran interés académico y comercial. Así pues, la relativa sencillez de digits resulta muy conveniente como tarea introductoria a la clasificación de imágenes."
      ]
    },
    {
      "cell_type": "code",
      "execution_count": null,
      "metadata": {
        "id": "JU7t87DRHR68"
      },
      "outputs": [],
      "source": [
        "import matplotlib.pyplot as plt\n",
        "from sklearn.datasets import load_digits"
      ]
    },
    {
      "cell_type": "code",
      "execution_count": null,
      "metadata": {
        "id": "-roTHJLtHR69"
      },
      "outputs": [],
      "source": [
        "digits = load_digits()\n",
        "print(digits.DESCR)"
      ]
    },
    {
      "cell_type": "markdown",
      "metadata": {
        "id": "dZwKRQjIHR6-"
      },
      "source": [
        "Veamos las primeras $10$ imágenes:"
      ]
    },
    {
      "cell_type": "code",
      "execution_count": null,
      "metadata": {
        "id": "X_kxaqteHR6-"
      },
      "outputs": [],
      "source": [
        "_, axes = plt.subplots(nrows=1, ncols=10, figsize=(16, 16))\n",
        "for ax, image, label in zip(axes, digits.images, digits.target):\n",
        "    ax.set_axis_off()\n",
        "    ax.imshow(image, cmap=plt.cm.gray_r, interpolation=\"none\")\n",
        "    ax.set_title(\"Mostra {!s}\".format(label))"
      ]
    },
    {
      "cell_type": "code",
      "source": [
        "axes\n"
      ],
      "metadata": {
        "id": "nvV_1w7iH2XZ"
      },
      "execution_count": null,
      "outputs": []
    }
  ],
  "metadata": {
    "kernelspec": {
      "display_name": "Python 3",
      "language": "python",
      "name": "python3"
    },
    "language_info": {
      "codemirror_mode": {
        "name": "ipython",
        "version": 3
      },
      "file_extension": ".py",
      "mimetype": "text/x-python",
      "name": "python",
      "nbconvert_exporter": "python",
      "pygments_lexer": "ipython3",
      "version": "3.10.7"
    },
    "vscode": {
      "interpreter": {
        "hash": "e7370f93d1d0cde622a1f8e1c04877d8463912d04d973331ad4851f04de6915a"
      }
    },
    "colab": {
      "provenance": []
    }
  },
  "nbformat": 4,
  "nbformat_minor": 0
}