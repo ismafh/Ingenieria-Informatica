{
  "cells": [
    {
      "cell_type": "markdown",
      "metadata": {
        "id": "l3_hJ8OjBKXa"
      },
      "source": [
        "# El corpus iris\n",
        "\n",
        "El corpus iris ha sido ampliamente utilizado para introducir conceptos y métodos básicos de aprendizaje automático. Consta de $N=150$ muestras, $50$ por cada una de $C=3$ clases, representadas mediante vectores de $D=4$ características reales homogéneas. Una de las clases es linealmente separable del resto, pero las otras dos no son linealmente separables. Aunque hoy en día se considera un corpus de \"juguete\", sigue siendo muy útil para introducir conceptos y métodos básicos."
      ]
    },
    {
      "cell_type": "markdown",
      "metadata": {
        "id": "I8011OIPBKXc"
      },
      "source": [
        "Primero importamos algunas librerías estándar i sklearn:"
      ]
    },
    {
      "cell_type": "code",
      "execution_count": null,
      "metadata": {
        "id": "Zr3-sayyBKXc"
      },
      "outputs": [],
      "source": [
        "import pandas as pd\n",
        "import seaborn as sns\n",
        "from sklearn.datasets import load_iris"
      ]
    },
    {
      "cell_type": "markdown",
      "metadata": {
        "id": "8q_-nZyMBKXd"
      },
      "source": [
        "Lectura del corpus iris:"
      ]
    },
    {
      "cell_type": "code",
      "execution_count": null,
      "metadata": {
        "id": "Em8SdlsFBKXd"
      },
      "outputs": [],
      "source": [
        "iris = load_iris()\n",
        "print(dir(iris))\n",
        "X = iris.data\n",
        "y = iris.target\n",
        "fn = iris.feature_names\n",
        "cn = iris.target_names\n",
        "print(iris.DESCR)"
      ]
    },
    {
      "cell_type": "markdown",
      "metadata": {
        "id": "QTir4dD_BKXd"
      },
      "source": [
        "Convertimos el corpus en un dataframe pandas para facilitar su descripción:"
      ]
    },
    {
      "cell_type": "code",
      "execution_count": null,
      "metadata": {
        "id": "SCwvYHcOBKXe"
      },
      "outputs": [],
      "source": [
        "data = pd.DataFrame(data=X, columns=fn)\n",
        "data['species'] = pd.Series(iris.target_names[y], dtype='category')\n",
        "data"
      ]
    },
    {
      "cell_type": "markdown",
      "metadata": {
        "id": "dbX9Y3LSBKXe"
      },
      "source": [
        "Veamos algunas estadísticas básicas:"
      ]
    },
    {
      "cell_type": "code",
      "execution_count": null,
      "metadata": {
        "id": "-CwwEbXgBKXe"
      },
      "outputs": [],
      "source": [
        "data.describe()"
      ]
    },
    {
      "cell_type": "markdown",
      "metadata": {
        "id": "HleVDIbpBKXe"
      },
      "source": [
        "Comprobamos que tenemos $50$ muestras de cada clase:"
      ]
    },
    {
      "cell_type": "code",
      "execution_count": null,
      "metadata": {
        "id": "5f7dsySSBKXe"
      },
      "outputs": [],
      "source": [
        "data.groupby('species').size()"
      ]
    },
    {
      "cell_type": "markdown",
      "metadata": {
        "id": "Y2BjuyhNBKXe"
      },
      "source": [
        "Como que tenemos pocas características, es buena idea hacer un gráfico matricial de dispersión:"
      ]
    },
    {
      "cell_type": "code",
      "execution_count": null,
      "metadata": {
        "id": "P9odYtKWBKXe"
      },
      "outputs": [],
      "source": [
        "sns.pairplot(data, hue=\"species\", height = 2, palette = 'colorblind');"
      ]
    },
    {
      "cell_type": "markdown",
      "metadata": {
        "id": "DVR16IznBKXf"
      },
      "source": [
        "**Cuestión:** qué clase se separa linealmente de las otras dos?"
      ]
    }
  ],
  "metadata": {
    "kernelspec": {
      "display_name": "Python 3 (ipykernel)",
      "language": "python",
      "name": "python3"
    },
    "language_info": {
      "codemirror_mode": {
        "name": "ipython",
        "version": 3
      },
      "file_extension": ".py",
      "mimetype": "text/x-python",
      "name": "python",
      "nbconvert_exporter": "python",
      "pygments_lexer": "ipython3",
      "version": "3.9.13"
    },
    "vscode": {
      "interpreter": {
        "hash": "e7370f93d1d0cde622a1f8e1c04877d8463912d04d973331ad4851f04de6915a"
      }
    },
    "colab": {
      "provenance": []
    }
  },
  "nbformat": 4,
  "nbformat_minor": 0
}