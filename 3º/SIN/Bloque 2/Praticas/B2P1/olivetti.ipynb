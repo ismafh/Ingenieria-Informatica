{
  "cells": [
    {
      "cell_type": "markdown",
      "metadata": {
        "id": "Az1jp4A-NYzO"
      },
      "source": [
        "# El corpus Olivetti\n",
        "\n",
        "Olivetti contiene $N=400$ imágenes de caras de $C=40$ personas, con 10 imágenes por persona. Las imágenes se adquirieron en momentos diferentes, variando la iluminación, expresión facial (cerrando o no los ojos; sonriente o no) y detalles faciales (con o sin gafas). Todas ellas se encuentran normalizadas en $64\\times 64$ píxeles en escala de gris entre $0$ y $1$; esto es, cada imagen se puede ver como un vector de $D=4096$ dimensiones de características reales en $[0, 1]$. Las personas se identifican con una etiqueta entera de $0$ a $39$."
      ]
    },
    {
      "cell_type": "code",
      "execution_count": null,
      "metadata": {
        "id": "-DuF_TbINYzR"
      },
      "outputs": [],
      "source": [
        "import numpy as np\n",
        "import matplotlib.pyplot as plt\n",
        "from sklearn.datasets import fetch_olivetti_faces"
      ]
    },
    {
      "cell_type": "code",
      "execution_count": null,
      "metadata": {
        "id": "4DomFFR9NYzR"
      },
      "outputs": [],
      "source": [
        "orl = fetch_olivetti_faces()\n",
        "print(orl.DESCR)"
      ]
    },
    {
      "cell_type": "markdown",
      "metadata": {
        "id": "V06hTY3WNYzS"
      },
      "source": [
        "Veamos la primera imagen de cada persona:"
      ]
    },
    {
      "cell_type": "code",
      "execution_count": null,
      "metadata": {
        "id": "I8pxvFtlNYzS"
      },
      "outputs": [],
      "source": [
        "nrows, ncols = 4, 10\n",
        "fig, axes = plt.subplots(nrows=nrows, ncols=ncols, figsize=(18, 18*nrows/ncols), constrained_layout=True)\n",
        "for c in np.arange(0, 40):\n",
        "    ax = axes.flat[c];\n",
        "    ax.set_axis_off();\n",
        "    ax.set_title(f\"Persona {c}\")\n",
        "    ax.imshow(orl.images[10*c], cmap=plt.cm.gray, interpolation=\"none\")"
      ]
    },
    {
      "cell_type": "markdown",
      "metadata": {
        "id": "vTOQx7HKNYzS"
      },
      "source": [
        "Veamos las $10$ imágenes de algunas personas:"
      ]
    },
    {
      "cell_type": "code",
      "execution_count": null,
      "metadata": {
        "id": "a0AIPteiNYzS"
      },
      "outputs": [],
      "source": [
        "cc = [0, 9, 21, 36]\n",
        "nrows, ncols = len(cc), 10\n",
        "fig, axes = plt.subplots(nrows=nrows, ncols=ncols, figsize=(18, 18*nrows/ncols), constrained_layout=True)\n",
        "for i, c in enumerate(cc):\n",
        "    for j in np.arange(0, 10):\n",
        "        ax = axes.flat[10*i+j]; ax.set_axis_off(); ax.set_title(f\"Pers. {c} cara {j}\")\n",
        "        ax.imshow(orl.images[10*c+j], cmap=plt.cm.gray, interpolation=\"none\")"
      ]
    }
  ],
  "metadata": {
    "kernelspec": {
      "display_name": "Python 3",
      "language": "python",
      "name": "python3"
    },
    "language_info": {
      "codemirror_mode": {
        "name": "ipython",
        "version": 3
      },
      "file_extension": ".py",
      "mimetype": "text/x-python",
      "name": "python",
      "nbconvert_exporter": "python",
      "pygments_lexer": "ipython3",
      "version": "3.10.7"
    },
    "vscode": {
      "interpreter": {
        "hash": "e7370f93d1d0cde622a1f8e1c04877d8463912d04d973331ad4851f04de6915a"
      }
    },
    "colab": {
      "provenance": []
    }
  },
  "nbformat": 4,
  "nbformat_minor": 0
}