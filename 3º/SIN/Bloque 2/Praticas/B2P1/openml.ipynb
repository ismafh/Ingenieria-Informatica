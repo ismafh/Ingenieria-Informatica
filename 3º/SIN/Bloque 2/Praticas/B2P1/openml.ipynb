{
  "cells": [
    {
      "cell_type": "markdown",
      "metadata": {
        "id": "EZuW5joTjH6X"
      },
      "source": [
        "# openml\n",
        "\n",
        "[openml.org](https://openml.org) es una plataforma abierta para compartir conjuntos de datos, algoritmos y experimentos de aprendizaje automático con datos tabulados. Los principales conceptos sobre los cuales se basa son:\n",
        "* **Dataset:** $\\;$ conjunto de datos tabulados\n",
        "* **Task:** $\\;$ conjunto de datos, tarea de aprendizaje a realizar y método de evaluación\n",
        "* **Flow:** $\\;$ pipeline de aprendizaje automático con detalles sobre software a emplear e hiperparámetros a ajustar\n",
        "* **Run:** $\\;$ experimento de evaluación de un flow en una tarea\n",
        "\n",
        "La elección de conjuntos de datos se puede hacer en la sección [datasets](https://openml.org/search?type=data). Los conjuntos elegidos se pueden descargar directamente o en uso de la función [fetch_openml](https://scikit-learn.org/stable/modules/generated/sklearn.datasets.fetch_openml.html#sklearn.datasets.fetch_openml) de sklearn. Ahora bien, en general es preferible escoger conjuntos de datos previamente elegidos por otros usuarios (con algún criterio específico) y publicados en la sección [benchmarks](https://openml.org/search?type=benchmark). En particular, podemos destacar tres \"benchmark suites\" recientes para comparar y evaluar técnicas de clasificación:\n",
        "* **OpenML-CC18 Curated Classification benchmark:** $\\;$ $72$ conjuntos de [Bahri et al, 2022](https://arxiv.org/abs/2106.15147)\n",
        "* **Tabular benchmark categorical classification:** $\\;$ $7$ conjuntos de [Grinsztajn et al, 2022](https://arxiv.org/abs/2207.08815)\n",
        "* **AutoML Benchmark All Classification:** $\\;$ $71$ conjuntos de [Gijsbers et al, 2019](https://arxiv.org/abs/1907.00909)\n",
        "\n"
      ]
    },
    {
      "cell_type": "markdown",
      "source": [
        "\n",
        "\n",
        "Es posible que primero tengamos que instalar el paquete openml\n"
      ],
      "metadata": {
        "id": "Cgl2YDHFCgJS"
      }
    },
    {
      "cell_type": "code",
      "source": [
        "!pip install openml"
      ],
      "metadata": {
        "id": "j9BT_q13-j6A"
      },
      "execution_count": null,
      "outputs": []
    },
    {
      "cell_type": "markdown",
      "source": [],
      "metadata": {
        "id": "ZnzRegeiCxmv"
      }
    },
    {
      "cell_type": "code",
      "execution_count": null,
      "metadata": {
        "id": "BGvxQEi1jH6a"
      },
      "outputs": [],
      "source": [
        "import openml\n",
        "# OpenML-CC18 99; Tabular 334; AutoML 271\n",
        "benchmark_suite = openml.study.get_suite(suite_id=334)\n",
        "benchmark_suite"
      ]
    },
    {
      "cell_type": "code",
      "execution_count": null,
      "metadata": {
        "id": "w2clySqQjH6b"
      },
      "outputs": [],
      "source": [
        "openml.datasets.list_datasets(data_id=benchmark_suite.data, output_format='dataframe')"
      ]
    },
    {
      "cell_type": "code",
      "execution_count": null,
      "metadata": {
        "id": "g_y6IRoYjH6b"
      },
      "outputs": [],
      "source": [
        "openml.tasks.list_tasks(task_id=benchmark_suite.tasks, output_format=\"dataframe\")"
      ]
    },
    {
      "cell_type": "code",
      "source": [
        "# Cargar un conjunto de datos específico\n",
        "dataset_id = 45012  # Reemplaza con el ID del conjunto de datos de OpenML\n",
        "dataset = openml.datasets.get_dataset(dataset_id)\n",
        "\n",
        "# Obtener la descripción\n",
        "print(dataset.description)"
      ],
      "metadata": {
        "id": "8S9YF1ob-s6A"
      },
      "execution_count": null,
      "outputs": []
    },
    {
      "cell_type": "code",
      "source": [
        "import matplotlib.pyplot as plt\n",
        "import numpy as np\n",
        "\n",
        "# Cargar el conjunto de datos de OpenML\n",
        "dataset = openml.datasets.get_dataset(45012)\n",
        "X, y, _, attribute_names = dataset.get_data(target=dataset.default_target_attribute)\n",
        "\n",
        "print(dataset)"
      ],
      "metadata": {
        "id": "PrZcbWpTALPo"
      },
      "execution_count": null,
      "outputs": []
    },
    {
      "cell_type": "code",
      "source": [
        "print(X.iloc[0], y.iloc[0])"
      ],
      "metadata": {
        "id": "IY-N3hHKLF9A"
      },
      "execution_count": null,
      "outputs": []
    },
    {
      "cell_type": "code",
      "source": [
        "print(y)\n",
        "print(np.unique(y))"
      ],
      "metadata": {
        "id": "W3LeFjXOLzIA"
      },
      "execution_count": null,
      "outputs": []
    },
    {
      "cell_type": "code",
      "source": [
        "# Cargar un conjunto de datos específico\n",
        "dataset_id = 41081  # Reemplaza con el ID del conjunto de datos de OpenML\n",
        "dataset = openml.datasets.get_dataset(dataset_id)\n",
        "\n",
        "# Obtener la descripción\n",
        "print(dataset.description)\n",
        "print(dataset)"
      ],
      "metadata": {
        "id": "oSCi__x4CJg-"
      },
      "execution_count": null,
      "outputs": []
    },
    {
      "cell_type": "code",
      "source": [
        "# Cargar el conjunto de datos de OpenML\n",
        "dataset = openml.datasets.get_dataset(41081)\n",
        "X, y, _, attribute_names = dataset.get_data(target=dataset.default_target_attribute)\n",
        "\n",
        "print(X)"
      ],
      "metadata": {
        "id": "-m1Xk2WtA6IF"
      },
      "execution_count": null,
      "outputs": []
    },
    {
      "cell_type": "code",
      "source": [
        "print(X.iloc[0])"
      ],
      "metadata": {
        "id": "s6Hb4NWyK0a_"
      },
      "execution_count": null,
      "outputs": []
    },
    {
      "cell_type": "code",
      "source": [
        "for i in range(10):\n",
        "    plt.subplot(2, 5, i + 1)  # 2 filas, 5 columnas de imágenes\n",
        "    image = np.array(X.iloc[i]).reshape(32, 32, 3)\n",
        "    plt.title(f\"Label: {y[i]}\")\n",
        "    plt.imshow(image)  # Asegúrate de que los datos estén en el rango correcto (0-255)\n",
        "    plt.axis('off')  # Omitir los ejes\n",
        "\n",
        "plt.tight_layout()\n",
        "plt.show()"
      ],
      "metadata": {
        "id": "myC_7WQZD-dm"
      },
      "execution_count": null,
      "outputs": []
    },
    {
      "cell_type": "code",
      "source": [],
      "metadata": {
        "id": "zGMZ657BHSjn"
      },
      "execution_count": null,
      "outputs": []
    }
  ],
  "metadata": {
    "kernelspec": {
      "display_name": "Python 3",
      "language": "python",
      "name": "python3"
    },
    "language_info": {
      "codemirror_mode": {
        "name": "ipython",
        "version": 3
      },
      "file_extension": ".py",
      "mimetype": "text/x-python",
      "name": "python",
      "nbconvert_exporter": "python",
      "pygments_lexer": "ipython3",
      "version": "3.10.7"
    },
    "vscode": {
      "interpreter": {
        "hash": "e7370f93d1d0cde622a1f8e1c04877d8463912d04d973331ad4851f04de6915a"
      }
    },
    "colab": {
      "provenance": []
    }
  },
  "nbformat": 4,
  "nbformat_minor": 0
}