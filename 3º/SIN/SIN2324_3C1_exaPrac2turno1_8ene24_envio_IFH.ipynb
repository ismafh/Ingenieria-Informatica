{
  "cells": [
    {
      "cell_type": "markdown",
      "metadata": {
        "id": "hfCpeR_VYXZV"
      },
      "source": [
        "# SIN2324, grupo de laboratorio 3C1\n",
        "# Examen de la práctica 2\n",
        "# Turno 1: de 15h a 15.45h del 8 de enero de 2024"
      ]
    },
    {
      "cell_type": "markdown",
      "metadata": {
        "id": "70SLCxKiYXZX"
      },
      "source": [
        "# Regresión logística aplicada a una tarea de openml"
      ]
    },
    {
      "cell_type": "markdown",
      "metadata": {
        "id": "ES53GkIaYXZX"
      },
      "source": [
        "## 1 Preliminares\n",
        "\n",
        "Las siguientes celdas de código leen una matriz de datos de openml y crean de un partición train-test para hacer experimentos:"
      ]
    },
    {
      "cell_type": "code",
      "execution_count": null,
      "metadata": {
        "id": "FZXZKa7SYXZX"
      },
      "outputs": [],
      "source": [
        "import warnings; warnings.filterwarnings(\"ignore\"); import numpy as np\n",
        "from sklearn.datasets import fetch_openml\n",
        "from sklearn.model_selection import train_test_split"
      ]
    },
    {
      "cell_type": "code",
      "execution_count": 6,
      "metadata": {
        "id": "HZ72_ttYYXZY"
      },
      "outputs": [],
      "source": [
        "X, y = fetch_openml(data_id=54, return_X_y=True, as_frame=False)\n",
        "mask = ~np.isnan(X).any(axis=1); X = X[mask, :]; y = y[mask]\n",
        "X_train, X_test, y_train, y_test = train_test_split(X, y, test_size=0.4, shuffle=True, random_state=23)"
      ]
    },
    {
      "cell_type": "markdown",
      "metadata": {
        "id": "N9aJMWu8YXZY"
      },
      "source": [
        "## 2 Experimento básico con regresión logística\n",
        "\n",
        "La siguiente celda de código calcula el error en test de regresión logística con los valores por defecto que utiliza la implementación de sklearn:"
      ]
    },
    {
      "cell_type": "code",
      "execution_count": 7,
      "metadata": {
        "id": "9tFEnfH4YXZY",
        "outputId": "bb6d75eb-c7d0-41e9-b00d-cab00cc3faa2",
        "colab": {
          "base_uri": "https://localhost:8080/"
        }
      },
      "outputs": [
        {
          "output_type": "stream",
          "name": "stdout",
          "text": [
            "Error de test: 31.0%\n"
          ]
        }
      ],
      "source": [
        "from sklearn.linear_model import LogisticRegression\n",
        "from sklearn.metrics import accuracy_score\n",
        "clf = LogisticRegression(random_state=23).fit(X_train, y_train)\n",
        "err_test = 1 - accuracy_score(y_test, clf.predict(X_test))\n",
        "print(f\"Error de test: {err_test:.1%}\")"
      ]
    },
    {
      "cell_type": "markdown",
      "metadata": {
        "id": "gMUVuv85YXZZ"
      },
      "source": [
        "## Ejercicio de Examen"
      ]
    },
    {
      "cell_type": "markdown",
      "metadata": {
        "id": "DEnCIhsvYXZZ"
      },
      "source": [
        "## 3 Comparación de valores para el máximo número de iteraciones"
      ]
    },
    {
      "cell_type": "markdown",
      "metadata": {
        "id": "OU-8jKeMYXZZ"
      },
      "source": [
        "Sklearn emplea `max_iter=100` por defecto. Calcula el error en test de regresión logística para valores de número de iteraciones superiores a 100 (en particular, 200, 500, 1000, 2000, 5000 y 10000):"
      ]
    },
    {
      "cell_type": "code",
      "execution_count": 20,
      "metadata": {
        "id": "8K3uE4Z-YXZa",
        "colab": {
          "base_uri": "https://localhost:8080/"
        },
        "outputId": "a30d4970-21ce-4cb8-dbd3-dcb52bb76d8d"
      },
      "outputs": [
        {
          "output_type": "stream",
          "name": "stdout",
          "text": [
            "Error de test con 200 iteraciones: 22.4%\n",
            "Error de test con 500 iteraciones: 20.4%\n",
            "Error de test con 1000 iteraciones: 17.7%\n",
            "Error de test con 2000 iteraciones: 17.1%\n",
            "Error de test con 5000 iteraciones: 17.7%\n",
            "Error de test con 10000 iteraciones: 17.7%\n"
          ]
        }
      ],
      "source": [
        "from sklearn.linear_model import LogisticRegression\n",
        "from sklearn.metrics import accuracy_score\n",
        "\n",
        "num_iteraciones = [200, 500, 1000, 2000, 5000, 10000]\n",
        "\n",
        "for iteracion in num_iteraciones:\n",
        "    clf = LogisticRegression(random_state=23, max_iter=iteracion).fit(X_train, y_train)\n",
        "    err_test = 1 - accuracy_score(y_test, clf.predict(X_test))\n",
        "    print(f\"Error de test con {iteracion} iteraciones: {err_test:.1%}\")\n"
      ]
    },
    {
      "cell_type": "markdown",
      "metadata": {
        "id": "YmXj5f1jYXZa"
      },
      "source": [
        "**Pregunta 1:** $\\;$ A la vista de los resultados obtenidos, ¿qué número de iteraciones consideras que sería más apropiado utilizar? Razona brevemente la respuesta"
      ]
    },
    {
      "cell_type": "markdown",
      "metadata": {
        "id": "N2Kvql7fYXZa"
      },
      "source": [
        "Seria mas apropiado utilizar 2000 iteraciones porque da menos porcentaje de error"
      ]
    },
    {
      "cell_type": "markdown",
      "metadata": {
        "id": "cIrYVIbmYXZa"
      },
      "source": [
        "## 4 Comparación de solvers\n",
        "\n",
        "Sklearn utiliza el solver `solver=lbfgs` por defecto. Haciendo uso del mejor número de iteraciones encontrado anteriormente, calcula el error en test de regresión logística con otros solvers ('liblinear', 'newton-cg', 'newton-cholesky', 'sag', 'saga'):"
      ]
    },
    {
      "cell_type": "code",
      "execution_count": 21,
      "metadata": {
        "id": "FXZxHz7xYXZa",
        "colab": {
          "base_uri": "https://localhost:8080/"
        },
        "outputId": "9cfd6f51-212a-4a86-fadb-000a34c753c8"
      },
      "outputs": [
        {
          "output_type": "stream",
          "name": "stdout",
          "text": [
            "Error de test con solver 'liblinear': 18.9%\n",
            "Error de test con solver 'newton-cg': 18.0%\n",
            "Error de test con solver 'lbfgs': 17.1%\n",
            "Error de test con solver 'sag': 20.1%\n",
            "Error de test con solver 'saga': 22.4%\n"
          ]
        }
      ],
      "source": [
        "from sklearn.linear_model import LogisticRegression\n",
        "from sklearn.metrics import accuracy_score\n",
        "\n",
        "\n",
        "num_iterations = 2000\n",
        "\n",
        "\n",
        "solvers = ['liblinear', 'newton-cg', 'lbfgs', 'sag', 'saga']\n",
        "\n",
        "for solver in solvers:\n",
        "    clf = LogisticRegression(random_state=23, max_iter=num_iterations, solver=solver).fit(X_train, y_train)\n",
        "    err_test = 1 - accuracy_score(y_test, clf.predict(X_test))\n",
        "    print(f\"Error de test con solver '{solver}': {err_test:.1%}\")\n"
      ]
    },
    {
      "cell_type": "markdown",
      "metadata": {
        "id": "L6Uj8RI7YXZa"
      },
      "source": [
        ":**Pregunta 2:** $\\;$ A la vista de los resultados obtenidos, ¿qué solver consideras que sería más apropiado utilizar? Razona brevemente la respuesta"
      ]
    },
    {
      "cell_type": "markdown",
      "metadata": {
        "id": "4d5yyBXdYXZa"
      },
      "source": [
        "En este caso seria mejor seguir utilizando lbfgs ya que es el que nos aporta un porcentaje de error menor. Esto puede ser debido a que lbfgs trabaja mejor con conjuntos de datos medianos/grandes."
      ]
    },
    {
      "cell_type": "markdown",
      "metadata": {
        "id": "6UT7SN4PYXZa"
      },
      "source": [
        "## 5 Comparación de tolerancias\n",
        "\n",
        "Sklearn usa tolerància `tol=1e-4` por defecto. Haciendo uso del mejor número de iteraciones y solver encontrado anteriormente, calcula el error en test de regresión logística con tolerancias inferiores y superiores al valor por defecto (1e-6, 1e-5, 1e-4, 1e-3, 1e-2, 1e-1, 1):"
      ]
    },
    {
      "cell_type": "code",
      "execution_count": 28,
      "metadata": {
        "id": "UkYWTExCYXZa",
        "colab": {
          "base_uri": "https://localhost:8080/"
        },
        "outputId": "cdbef766-8c60-4f9a-97b0-a51a3838511b"
      },
      "outputs": [
        {
          "output_type": "stream",
          "name": "stdout",
          "text": [
            "Error de test con tolerancia 1e-06: 17.1%\n",
            "Error de test con tolerancia 1e-05: 17.1%\n",
            "Error de test con tolerancia 0.0001: 17.1%\n",
            "Error de test con tolerancia 0.001: 17.1%\n",
            "Error de test con tolerancia 0.01: 17.1%\n",
            "Error de test con tolerancia 0.1: 17.1%\n",
            "Error de test con tolerancia 1: 17.1%\n"
          ]
        }
      ],
      "source": [
        "from sklearn.linear_model import LogisticRegression\n",
        "from sklearn.metrics import accuracy_score\n",
        "\n",
        "tolerancias = [1e-6, 1e-5, 1e-4, 1e-3, 1e-2, 1e-1, 1]\n",
        "\n",
        "for tole in tolerancias:\n",
        "    clf = LogisticRegression(random_state=23, max_iter=2000, solver='lbfgs', tol=tole).fit(X_train, y_train)\n",
        "    err_test = 1 - accuracy_score(y_test, clf.predict(X_test))\n",
        "    print(f\"Error de test con tolerancia {tole}: {err_test:.1%}\")\n"
      ]
    },
    {
      "cell_type": "markdown",
      "metadata": {
        "id": "uK-l9tpzYXZa"
      },
      "source": [
        "**Pregunta 3:** $\\;$  A la vista de los resultados obtenidos, ¿qué valor o valores de tolerancia consideras que sería más apropiado utilizar? Razona brevemente la respuesta"
      ]
    },
    {
      "cell_type": "markdown",
      "metadata": {
        "id": "N_SvCjYlYXZa"
      },
      "source": [
        "Todas las tolerancias dan el mismo resultado, asique se podria utilizar cualquier valor."
      ]
    },
    {
      "cell_type": "markdown",
      "metadata": {
        "id": "LL2IfPV0YXZa"
      },
      "source": [
        "## 6 Comparación de valores para el hiper-parámetro `C`\n",
        "\n",
        "Sklearn utiliza `C=1.0` por defecto. Haciendo uso del mejor número de iteraciones, solver y tolerancia encontrados anteriormente, calcula el error en test de regresión logística con valores de `C` inferiores y superiores al valor por defecto (1e-2, 1e-1, 1, 1e1, 1e2, 1e3, 1e4):"
      ]
    },
    {
      "cell_type": "code",
      "execution_count": 30,
      "metadata": {
        "id": "UhnKeJCNYXZa",
        "colab": {
          "base_uri": "https://localhost:8080/"
        },
        "outputId": "957f6ad1-f5f0-4057-c21f-a7e4085d5fd9"
      },
      "outputs": [
        {
          "output_type": "stream",
          "name": "stdout",
          "text": [
            "Error de test con C=0.01: 20.1%\n",
            "Error de test con C=0.1: 17.7%\n",
            "Error de test con C=1: 17.1%\n",
            "Error de test con C=10.0: 18.6%\n",
            "Error de test con C=100.0: 18.3%\n",
            "Error de test con C=1000.0: 19.8%\n",
            "Error de test con C=10000.0: 18.6%\n"
          ]
        }
      ],
      "source": [
        "from sklearn.linear_model import LogisticRegression\n",
        "from sklearn.metrics import accuracy_score\n",
        "\n",
        "valores_C = [1e-2, 1e-1, 1, 1e1, 1e2, 1e3, 1e4]\n",
        "for C_valor in valores_C:\n",
        "    clf = LogisticRegression(random_state=23, max_iter=2000, solver='lbfgs', tol=1e-4, C=C_valor).fit(X_train, y_train)\n",
        "    err_test = 1 - accuracy_score(y_test, clf.predict(X_test))\n",
        "    print(f\"Error de test con C={C_valor}: {err_test:.1%}\")\n"
      ]
    },
    {
      "cell_type": "markdown",
      "metadata": {
        "id": "qOPHPOEkYXZa"
      },
      "source": [
        "**Pregunta 4:** $\\;$ A la vista de los resultados obtenidos, ¿qué valor o valores de C consideras que sería más apropiado utilizar? Razona brevemente la respuesta"
      ]
    },
    {
      "cell_type": "markdown",
      "metadata": {
        "id": "KB79nmM3YXZa"
      },
      "source": [
        "En base a los resultados obtenidos, el menor error en el conjunto de prueba se encuentra cuando C=1, con un error del 17.1%. Los valores de C menores (0.01 y 0.1) resultan en un peor rendimiento,mientras que valores más grandes de C (1000 y 10000) generan un aumento en el error. Por lo tanto la opcion mas adecuada seria la de C=1"
      ]
    }
  ],
  "metadata": {
    "kernelspec": {
      "display_name": "Python 3",
      "language": "python",
      "name": "python3"
    },
    "language_info": {
      "codemirror_mode": {
        "name": "ipython",
        "version": 3
      },
      "file_extension": ".py",
      "mimetype": "text/x-python",
      "name": "python",
      "nbconvert_exporter": "python",
      "pygments_lexer": "ipython3",
      "version": "3.11.4"
    },
    "orig_nbformat": 4,
    "colab": {
      "provenance": []
    }
  },
  "nbformat": 4,
  "nbformat_minor": 0
}